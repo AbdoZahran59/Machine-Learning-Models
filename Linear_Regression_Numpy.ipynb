{
  "nbformat": 4,
  "nbformat_minor": 0,
  "metadata": {
    "colab": {
      "provenance": []
    },
    "kernelspec": {
      "name": "python3",
      "display_name": "Python 3"
    },
    "language_info": {
      "name": "python"
    }
  },
  "cells": [
    {
      "cell_type": "code",
      "execution_count": null,
      "metadata": {
        "colab": {
          "base_uri": "https://localhost:8080/"
        },
        "id": "9aRrCKRoAOJg",
        "outputId": "37d6f793-4a5b-4682-b6e7-38a9812cc275"
      },
      "outputs": [
        {
          "output_type": "stream",
          "name": "stdout",
          "text": [
            "     House Index  Actual Price  Predicted Price\n",
            "0              1           7.2         9.750253\n",
            "1              2          18.8        21.343026\n",
            "2              3          19.0        20.710664\n",
            "3              4          27.0        34.138608\n",
            "4              5          22.2        25.598310\n",
            "..           ...           ...              ...\n",
            "97            98          21.9        39.449580\n",
            "98            99          24.1        25.571986\n",
            "99           100          50.0        41.902847\n",
            "100          101          26.7        34.314120\n",
            "101          102          25.0        25.071528\n",
            "\n",
            "[102 rows x 3 columns]\n",
            "\n",
            "Mean Squared Error on Test Set: 137.9236294668073\n"
          ]
        }
      ],
      "source": [
        "import numpy as np\n",
        "import pandas as pd\n",
        "from tensorflow.keras.datasets import boston_housing\n",
        "\n",
        "# Load the Boston Housing dataset\n",
        "(train_data, train_targets), (test_data, test_targets) = boston_housing.load_data()\n",
        "\n",
        "# Normalize the dataset\n",
        "mean = train_data.mean(axis=0)\n",
        "std = train_data.std(axis=0)\n",
        "train_data = (train_data - mean) / std\n",
        "test_data = (test_data - mean) / std\n",
        "\n",
        "# Add bias term to the features\n",
        "train_data_with_bias = np.c_[np.ones((train_data.shape[0], 1)), train_data]\n",
        "test_data_with_bias = np.c_[np.ones((test_data.shape[0], 1)), test_data]\n",
        "\n",
        "# Define prediction function\n",
        "def predict(features, weights):\n",
        "    return np.dot(features, weights)\n",
        "\n",
        "# Define mean squared error function\n",
        "def mean_squared_error(predictions, targets):\n",
        "    return np.mean((predictions - targets)**2)\n",
        "\n",
        "# Define gradient descent function\n",
        "def gradient_descent(features, targets, learning_rate, num_iterations):\n",
        "    num_samples, num_features = features.shape\n",
        "    weights = np.zeros((num_features, 1))\n",
        "\n",
        "    for _ in range(num_iterations):\n",
        "        predictions = predict(features, weights)\n",
        "        errors = predictions - targets\n",
        "        gradients = 2/num_samples * np.dot(features.T, errors)\n",
        "        weights -= learning_rate * gradients\n",
        "\n",
        "    return weights\n",
        "\n",
        "# Perform gradient descent to obtain weights\n",
        "learning_rate = 0.1\n",
        "num_epochs = 50\n",
        "\n",
        "weights = gradient_descent(train_data_with_bias, train_targets.reshape(-1, 1), learning_rate, num_epochs)\n",
        "\n",
        "# Make predictions on the test set\n",
        "test_predictions = predict(test_data_with_bias, weights)\n",
        "\n",
        "# Create a DataFrame to display results\n",
        "results_df = pd.DataFrame({\n",
        "    'House Index': range(1, len(test_predictions) + 1),\n",
        "    'Actual Price': test_targets.flatten(),\n",
        "    'Predicted Price': test_predictions.flatten()\n",
        "})\n",
        "\n",
        "# Display the DataFrame\n",
        "print(results_df)\n",
        "\n",
        "# Calculate and print the mean squared error on the test set\n",
        "mse = mean_squared_error(test_predictions, test_targets)\n",
        "print(\"\\nMean Squared Error on Test Set:\", mse)\n"
      ]
    }
  ]
}