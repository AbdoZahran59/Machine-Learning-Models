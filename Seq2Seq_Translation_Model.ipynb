{
  "nbformat": 4,
  "nbformat_minor": 0,
  "metadata": {
    "colab": {
      "provenance": [],
      "gpuType": "T4"
    },
    "kernelspec": {
      "name": "python3",
      "display_name": "Python 3"
    },
    "language_info": {
      "name": "python"
    },
    "accelerator": "GPU"
  },
  "cells": [
    {
      "cell_type": "code",
      "execution_count": 1,
      "metadata": {
        "id": "ip6-pVApA12K"
      },
      "outputs": [],
      "source": [
        "import numpy as np\n",
        "import tensorflow as tf\n",
        "from tensorflow.keras.preprocessing.text import Tokenizer\n",
        "from tensorflow.keras.preprocessing.sequence import pad_sequences\n",
        "from sklearn.model_selection import train_test_split\n",
        "import matplotlib.pyplot as plt"
      ]
    },
    {
      "cell_type": "code",
      "source": [
        "# Load data\n",
        "url = \"https://raw.githubusercontent.com/SamirMoustafa/nmt-with-attention-for-ar-to-en/master/ara_.txt\"\n",
        "data = tf.keras.utils.get_file('ara_.txt', url)\n",
        "\n",
        "# Read data\n",
        "with open(data, 'r', encoding='utf-8') as f:\n",
        "    lines = f.read().split('\\n')\n",
        "\n",
        "# Print the first few lines of the data\n",
        "for line in lines[:5]:\n",
        "    print(line)"
      ],
      "metadata": {
        "colab": {
          "base_uri": "https://localhost:8080/"
        },
        "id": "udPc6RmpHyY6",
        "outputId": "e3a92877-3e8a-4739-be52-44c4abf76f0f"
      },
      "execution_count": 2,
      "outputs": [
        {
          "output_type": "stream",
          "name": "stdout",
          "text": [
            "Downloading data from https://raw.githubusercontent.com/SamirMoustafa/nmt-with-attention-for-ar-to-en/master/ara_.txt\n",
            "763396/763396 [==============================] - 0s 0us/step\n",
            "Hi.\tمرحبًا.\n",
            "Run!\tاركض!\n",
            "Help!\tالنجدة!\n",
            "Jump!\tاقفز!\n",
            "Stop!\tقف!\n"
          ]
        }
      ]
    },
    {
      "cell_type": "code",
      "source": [
        "# Prepare data\n",
        "input_texts = []\n",
        "target_texts = []\n",
        "input_characters = set()\n",
        "target_characters = set()\n",
        "\n",
        "for line in lines:\n",
        "    if '\\t' not in line:\n",
        "        continue\n",
        "    input_text, target_text = line.split('\\t')\n",
        "    # Add start and end tokens to target sequences\n",
        "    target_text = '\\t' + target_text + '\\n'\n",
        "    input_texts.append(input_text)\n",
        "    target_texts.append(target_text)\n",
        "    for char in input_text:\n",
        "        if char not in input_characters:\n",
        "            input_characters.add(char)\n",
        "    for char in target_text:\n",
        "        if char not in target_characters:\n",
        "            target_characters.add(char)\n",
        "\n",
        "input_characters = sorted(list(input_characters))\n",
        "target_characters = sorted(list(target_characters))\n",
        "num_encoder_tokens = len(input_characters)\n",
        "num_decoder_tokens = len(target_characters)\n",
        "max_encoder_seq_length = max([len(txt) for txt in input_texts])\n",
        "max_decoder_seq_length = max([len(txt) for txt in target_texts])"
      ],
      "metadata": {
        "id": "eSoR00mHH1r9"
      },
      "execution_count": 3,
      "outputs": []
    },
    {
      "cell_type": "code",
      "source": [
        "# Tokenize input and target texts\n",
        "input_tokenizer = Tokenizer(char_level=True)\n",
        "input_tokenizer.fit_on_texts(input_texts)\n",
        "target_tokenizer = Tokenizer(char_level=True)\n",
        "target_tokenizer.fit_on_texts(target_texts)\n",
        "\n",
        "# Convert texts to sequences\n",
        "encoder_input_sequences = input_tokenizer.texts_to_sequences(input_texts)\n",
        "decoder_input_sequences = target_tokenizer.texts_to_sequences(target_texts)\n",
        "\n",
        "# Pad sequences\n",
        "encoder_input_data = pad_sequences(encoder_input_sequences, maxlen=max_encoder_seq_length, padding='post')\n",
        "decoder_input_data = pad_sequences(decoder_input_sequences, maxlen=max_decoder_seq_length, padding='post')\n",
        "\n",
        "# Prepare decoder target data\n",
        "decoder_target_sequences = [sequence[1:] for sequence in decoder_input_sequences]  # Remove start token\n",
        "decoder_target_data = pad_sequences(decoder_target_sequences, maxlen=max_decoder_seq_length, padding='post')\n",
        "\n",
        "\n",
        "# Split data into train and test sets\n",
        "encoder_input_train, encoder_input_test, decoder_input_train, decoder_input_test, decoder_target_train, decoder_target_test = train_test_split(encoder_input_data, decoder_input_data, decoder_target_data, test_size=0.2)"
      ],
      "metadata": {
        "id": "E-xIm4rgH5HF"
      },
      "execution_count": 4,
      "outputs": []
    },
    {
      "cell_type": "code",
      "source": [
        "# Define model\n",
        "embedding_size = 256\n",
        "hidden_size = 512\n",
        "\n",
        "encoder_inputs = tf.keras.layers.Input(shape=(None,))\n",
        "encoder_embedding = tf.keras.layers.Embedding(num_encoder_tokens, embedding_size)(encoder_inputs)\n",
        "encoder_lstm = tf.keras.layers.LSTM(hidden_size, return_sequences=True, return_state=True)\n",
        "encoder_outputs, state_h, state_c = encoder_lstm(encoder_embedding)\n",
        "encoder_states = [state_h, state_c]\n",
        "\n",
        "decoder_inputs = tf.keras.layers.Input(shape=(None,))\n",
        "decoder_embedding = tf.keras.layers.Embedding(num_decoder_tokens, embedding_size)\n",
        "decoder_embedding_output = decoder_embedding(decoder_inputs)\n",
        "decoder_lstm = tf.keras.layers.LSTM(hidden_size, return_sequences=True, return_state=True)\n",
        "decoder_outputs, _, _ = decoder_lstm(decoder_embedding_output, initial_state=encoder_states)\n",
        "\n",
        "attention_layer = tf.keras.layers.Attention()\n",
        "context_vector = attention_layer([decoder_outputs, encoder_outputs])\n",
        "\n",
        "decoder_combined_context = tf.keras.layers.Concatenate(axis=-1)([decoder_outputs, context_vector])\n",
        "\n",
        "decoder_dense = tf.keras.layers.Dense(num_decoder_tokens, activation='softmax')\n",
        "decoder_outputs = decoder_dense(decoder_combined_context)\n",
        "\n",
        "model = tf.keras.models.Model([encoder_inputs, decoder_inputs], decoder_outputs)"
      ],
      "metadata": {
        "id": "Y8TLTz2MH8rR"
      },
      "execution_count": 5,
      "outputs": []
    },
    {
      "cell_type": "code",
      "source": [
        "# Compile model\n",
        "model.compile(optimizer='adam', loss='sparse_categorical_crossentropy', metrics=['accuracy'])"
      ],
      "metadata": {
        "id": "XZzlXo4jH_cB"
      },
      "execution_count": 6,
      "outputs": []
    },
    {
      "cell_type": "code",
      "source": [
        "# Train model\n",
        "history = model.fit([encoder_input_train, decoder_input_train], decoder_target_train,\n",
        "                    batch_size=64,\n",
        "                    epochs=10,\n",
        "                    validation_split=0.2,\n",
        "                    verbose=1)\n",
        "\n",
        "# Plot training history\n",
        "plt.plot(history.history['accuracy'], label='train_accuracy')\n",
        "plt.plot(history.history['val_accuracy'], label = 'val_accuracy')\n",
        "plt.xlabel('Epoch')\n",
        "plt.ylabel('Accuracy')\n",
        "plt.legend(loc='lower right')\n",
        "plt.show()\n",
        "\n",
        "# Print final training loss and accuracy\n",
        "final_train_loss = history.history['loss'][-1]\n",
        "final_train_accuracy = history.history['accuracy'][-1]\n",
        "print(f\"Final Train Loss: {final_train_loss:.4f}\")\n",
        "print(f\"Final Train Accuracy: {final_train_accuracy:.4f}\")\n",
        "\n",
        "# Evaluate model\n",
        "test_loss, test_accuracy = model.evaluate([encoder_input_test, decoder_input_test], decoder_target_test)\n",
        "print(\"Test Loss:\", test_loss)\n",
        "print(\"Test Accuracy:\", test_accuracy)"
      ],
      "metadata": {
        "colab": {
          "base_uri": "https://localhost:8080/",
          "height": 883
        },
        "id": "Bk7LJFHyICF5",
        "outputId": "20a25c5a-2755-4890-8142-4be17b62a1fb"
      },
      "execution_count": 7,
      "outputs": [
        {
          "output_type": "stream",
          "name": "stdout",
          "text": [
            "Epoch 1/10\n",
            "108/108 [==============================] - 28s 139ms/step - loss: 0.4846 - accuracy: 0.8975 - val_loss: 0.3219 - val_accuracy: 0.9154\n",
            "Epoch 2/10\n",
            "108/108 [==============================] - 13s 119ms/step - loss: 0.3076 - accuracy: 0.9196 - val_loss: 0.2846 - val_accuracy: 0.9240\n",
            "Epoch 3/10\n",
            "108/108 [==============================] - 13s 120ms/step - loss: 0.2839 - accuracy: 0.9240 - val_loss: 0.2690 - val_accuracy: 0.9273\n",
            "Epoch 4/10\n",
            "108/108 [==============================] - 13s 123ms/step - loss: 0.2697 - accuracy: 0.9272 - val_loss: 0.2567 - val_accuracy: 0.9307\n",
            "Epoch 5/10\n",
            "108/108 [==============================] - 14s 127ms/step - loss: 0.2581 - accuracy: 0.9298 - val_loss: 0.2473 - val_accuracy: 0.9325\n",
            "Epoch 6/10\n",
            "108/108 [==============================] - 14s 127ms/step - loss: 0.2485 - accuracy: 0.9317 - val_loss: 0.2377 - val_accuracy: 0.9346\n",
            "Epoch 7/10\n",
            "108/108 [==============================] - 14s 127ms/step - loss: 0.2391 - accuracy: 0.9343 - val_loss: 0.2288 - val_accuracy: 0.9366\n",
            "Epoch 8/10\n",
            "108/108 [==============================] - 14s 127ms/step - loss: 0.2295 - accuracy: 0.9366 - val_loss: 0.2202 - val_accuracy: 0.9385\n",
            "Epoch 9/10\n",
            "108/108 [==============================] - 13s 125ms/step - loss: 0.2205 - accuracy: 0.9388 - val_loss: 0.2128 - val_accuracy: 0.9412\n",
            "Epoch 10/10\n",
            "108/108 [==============================] - 13s 125ms/step - loss: 0.2125 - accuracy: 0.9410 - val_loss: 0.2075 - val_accuracy: 0.9425\n"
          ]
        },
        {
          "output_type": "display_data",
          "data": {
            "text/plain": [
              "<Figure size 640x480 with 1 Axes>"
            ],
            "image/png": "[encoded data removed]"
          },
          "metadata": {}
        },
        {
          "output_type": "stream",
          "name": "stdout",
          "text": [
            "Final Train Loss: 0.2125\n",
            "Final Train Accuracy: 0.9410\n",
            "68/68 [==============================] - 2s 29ms/step - loss: 0.2138 - accuracy: 0.9411\n",
            "Test Loss: 0.2137773185968399\n",
            "Test Accuracy: 0.9411109685897827\n"
          ]
        }
      ]
    }
  ]
}