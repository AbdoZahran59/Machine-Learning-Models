{
  "nbformat": 4,
  "nbformat_minor": 0,
  "metadata": {
    "colab": {
      "provenance": [],
      "gpuType": "T4"
    },
    "kernelspec": {
      "name": "python3",
      "display_name": "Python 3"
    },
    "language_info": {
      "name": "python"
    },
    "accelerator": "GPU"
  },
  "cells": [
    {
      "cell_type": "code",
      "execution_count": 11,
      "metadata": {
        "colab": {
          "base_uri": "https://localhost:8080/"
        },
        "id": "mksRcXBa6_BB",
        "outputId": "e0f793b8-ea6f-44ef-d5ab-88f31368d8dd"
      },
      "outputs": [
        {
          "output_type": "stream",
          "name": "stdout",
          "text": [
            "Epoch 1/10 - loss: 2.2451 - accuracy: 0.2368 - val_loss: 2.1124 - val_accuracy: 0.4693\n",
            "Epoch 2/10 - loss: 1.8990 - accuracy: 0.5883 - val_loss: 1.5944 - val_accuracy: 0.7229\n",
            "Epoch 3/10 - loss: 1.3478 - accuracy: 0.7508 - val_loss: 1.0627 - val_accuracy: 0.7791\n",
            "Epoch 4/10 - loss: 0.9144 - accuracy: 0.8489 - val_loss: 0.7401 - val_accuracy: 0.8758\n",
            "Epoch 5/10 - loss: 0.6605 - accuracy: 0.8833 - val_loss: 0.5370 - val_accuracy: 0.9150\n",
            "Epoch 6/10 - loss: 0.4980 - accuracy: 0.9124 - val_loss: 0.4235 - val_accuracy: 0.9190\n",
            "Epoch 7/10 - loss: 0.3987 - accuracy: 0.9215 - val_loss: 0.3338 - val_accuracy: 0.9346\n",
            "Epoch 8/10 - loss: 0.3251 - accuracy: 0.9346 - val_loss: 0.2878 - val_accuracy: 0.9399\n",
            "Epoch 9/10 - loss: 0.2776 - accuracy: 0.9418 - val_loss: 0.2444 - val_accuracy: 0.9477\n",
            "Epoch 10/10 - loss: 0.2424 - accuracy: 0.9483 - val_loss: 0.2116 - val_accuracy: 0.9621\n",
            "\n",
            "Final Train Accuracy: 94.77%, Final Train Loss: 0.2258\n",
            "Final Test Accuracy: 96.21%, Final Test Loss: 0.2116\n",
            "\n",
            "Example 1: Predicted Label: 2, Actual Label: 2\n",
            "\n",
            "Example 2: Predicted Label: 7, Actual Label: 7\n",
            "\n",
            "Example 3: Predicted Label: 5, Actual Label: 5\n",
            "\n",
            "Example 4: Predicted Label: 1, Actual Label: 1\n",
            "\n",
            "Example 5: Predicted Label: 2, Actual Label: 2\n"
          ]
        }
      ],
      "source": [
        "import numpy as np\n",
        "import requests\n",
        "from io import StringIO\n",
        "from sklearn.model_selection import train_test_split\n",
        "from keras.models import Sequential\n",
        "from keras.layers import Dense\n",
        "from keras.utils import to_categorical\n",
        "from keras.callbacks import Callback\n",
        "import tensorflow as tf\n",
        "\n",
        "class PrintMetricsCallback(Callback):\n",
        "    def on_epoch_end(self, epoch, logs=None):\n",
        "        print(f\"Epoch {epoch+1}/{self.params['epochs']} - loss: {logs['loss']:.4f} - accuracy: {logs['accuracy']:.4f} - val_loss: {logs['val_loss']:.4f} - val_accuracy: {logs['val_accuracy']:.4f}\")\n",
        "\n",
        "def load_data():\n",
        "    url = \"https://archive.ics.uci.edu/ml/machine-learning-databases/optdigits/optdigits.tra\"\n",
        "    response = requests.get(url)\n",
        "    data = np.genfromtxt(StringIO(response.text), delimiter=',')\n",
        "    np.random.shuffle(data)\n",
        "    X = data[:, :-1]\n",
        "    y = data[:, -1].astype(int)\n",
        "    X /= 16.0\n",
        "    return X, y\n",
        "\n",
        "X, y = load_data()\n",
        "\n",
        "# Split data into training and testing sets\n",
        "X_train, X_test, y_train, y_test = train_test_split(X, y, test_size=0.2, random_state=42)\n",
        "\n",
        "# Convert labels to one-hot encoding\n",
        "y_train = to_categorical(y_train)\n",
        "y_test = to_categorical(y_test)\n",
        "\n",
        "# Define the neural network model\n",
        "model = Sequential()\n",
        "model.add(Dense(100, input_shape=(X_train.shape[1],), activation='sigmoid'))\n",
        "model.add(Dense(100, activation='sigmoid'))\n",
        "model.add(Dense(10, activation='softmax'))\n",
        "\n",
        "# Compile the model\n",
        "model.compile(optimizer='adam', loss='categorical_crossentropy', metrics=['accuracy'])\n",
        "\n",
        "# Define the callback for printing metrics\n",
        "print_metrics_callback = PrintMetricsCallback()\n",
        "\n",
        "# Train the model with the callback\n",
        "history = model.fit(X_train, y_train, epochs=10, batch_size=32, validation_data=(X_test, y_test), verbose=0, callbacks=[print_metrics_callback])\n",
        "\n",
        "# Evaluate the model\n",
        "train_loss, train_accuracy = model.evaluate(X_train, y_train, verbose=0)\n",
        "test_loss, test_accuracy = model.evaluate(X_test, y_test, verbose=0)\n",
        "\n",
        "print(f\"\\nFinal Train Accuracy: {train_accuracy*100:.2f}%, Final Train Loss: {train_loss:.4f}\")\n",
        "print(f\"Final Test Accuracy: {test_accuracy*100:.2f}%, Final Test Loss: {test_loss:.4f}\")\n",
        "\n",
        "# Make predictions on test examples\n",
        "@tf.function\n",
        "def predict_examples(X_test):\n",
        "    return model(X_test)\n",
        "\n",
        "predicted_probs = predict_examples(X_test)\n",
        "predicted_labels = np.argmax(predicted_probs, axis=1)\n",
        "\n",
        "# Show predicted and actual labels for a few examples\n",
        "num_examples = 5\n",
        "random_indices = np.random.choice(X_test.shape[0], num_examples, replace=False)\n",
        "X_examples = X_test[random_indices]\n",
        "y_examples = y_test[random_indices]\n",
        "\n",
        "for i in range(num_examples):\n",
        "    print(f\"\\nExample {i+1}: Predicted Label: {predicted_labels[random_indices[i]]}, Actual Label: {np.argmax(y_examples[i])}\")\n"
      ]
    }
  ]
}