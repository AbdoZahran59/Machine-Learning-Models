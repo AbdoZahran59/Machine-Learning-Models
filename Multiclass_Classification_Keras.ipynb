{
  "nbformat": 4,
  "nbformat_minor": 0,
  "metadata": {
    "colab": {
      "provenance": []
    },
    "kernelspec": {
      "name": "python3",
      "display_name": "Python 3"
    },
    "language_info": {
      "name": "python"
    }
  },
  "cells": [
    {
      "cell_type": "code",
      "execution_count": null,
      "metadata": {
        "colab": {
          "base_uri": "https://localhost:8080/"
        },
        "id": "RtMQRNQCepQP",
        "outputId": "e6e33e00-fb97-46d4-93ab-f3aa7aba16af"
      },
      "outputs": [
        {
          "output_type": "stream",
          "name": "stdout",
          "text": [
            "Training Accuracy: 0.9355788230895996\n",
            "Examples of Predicted and Actual Values from Training Set:\n",
            "96/96 [==============================] - 0s 1ms/step\n",
            "Example 1: Predicted: 8, Actual: 8\n",
            "Example 2: Predicted: 0, Actual: 0\n",
            "Example 3: Predicted: 7, Actual: 7\n",
            "Example 4: Predicted: 4, Actual: 4\n",
            "Example 5: Predicted: 7, Actual: 7\n",
            "Test Accuracy: 0.9267973899841309\n",
            "Examples of Predicted and Actual Values from Test Set:\n",
            "24/24 [==============================] - 0s 1ms/step\n",
            "Example 1: Predicted: 3, Actual: 3\n",
            "Example 2: Predicted: 5, Actual: 5\n",
            "Example 3: Predicted: 5, Actual: 5\n",
            "Example 4: Predicted: 7, Actual: 7\n",
            "Example 5: Predicted: 5, Actual: 5\n"
          ]
        }
      ],
      "source": [
        "\n",
        "import numpy as np\n",
        "import pandas as pd\n",
        "from sklearn.model_selection import train_test_split\n",
        "from sklearn.preprocessing import StandardScaler\n",
        "from keras.models import Sequential\n",
        "from keras.layers import Dense, Activation\n",
        "from keras.regularizers import l2\n",
        "\n",
        "# Load the dataset\n",
        "url = \"https://archive.ics.uci.edu/ml/machine-learning-databases/optdigits/optdigits.tra\"\n",
        "data = pd.read_csv(url, header=None)\n",
        "\n",
        "# Extract features and target variable\n",
        "X = data.iloc[:, :-1].values\n",
        "y = data.iloc[:, -1].values\n",
        "\n",
        "# Normalize the features\n",
        "scaler = StandardScaler()\n",
        "X_normalized = scaler.fit_transform(X)\n",
        "\n",
        "# Split data into training and testing sets\n",
        "X_train, X_test, y_train, y_test = train_test_split(X_normalized, y, test_size=0.2, random_state=42)\n",
        "\n",
        "# Define the model\n",
        "model = Sequential([\n",
        "    Dense(10, input_shape=(X_train.shape[1],), activation='tanh', kernel_regularizer=l2(0.001)),\n",
        "    Dense(len(np.unique(y)), activation='softmax', kernel_regularizer=l2(0.001))\n",
        "])\n",
        "\n",
        "# Compile the model\n",
        "model.compile(optimizer='adam',\n",
        "              loss='sparse_categorical_crossentropy',\n",
        "              metrics=['accuracy'])\n",
        "\n",
        "# Train the model\n",
        "history = model.fit(X_train, y_train, epochs=10, batch_size=32, validation_split=0.2, verbose=0)\n",
        "\n",
        "# Evaluate the model on training data\n",
        "train_loss, train_accuracy = model.evaluate(X_train, y_train, verbose=0)\n",
        "print(f'Training Accuracy: {train_accuracy}')\n",
        "\n",
        "# Print examples of predicted and actual values from training set\n",
        "print(\"Examples of Predicted and Actual Values from Training Set:\")\n",
        "train_predictions = model.predict(X_train)\n",
        "train_sample_indices = np.random.choice(len(X_train), 5, replace=False)\n",
        "train_sample_predictions = np.argmax(train_predictions[train_sample_indices], axis=1)\n",
        "train_sample_actual = y_train[train_sample_indices]\n",
        "for i in range(5):\n",
        "    print(f\"Example {i+1}: Predicted: {train_sample_predictions[i]}, Actual: {train_sample_actual[i]}\")\n",
        "\n",
        "# Evaluate the model on test data\n",
        "test_loss, test_accuracy = model.evaluate(X_test, y_test, verbose=0)\n",
        "print(f'Test Accuracy: {test_accuracy}')\n",
        "\n",
        "# Print examples of predicted and actual values from test set\n",
        "print(\"Examples of Predicted and Actual Values from Test Set:\")\n",
        "test_predictions = model.predict(X_test)\n",
        "test_sample_indices = np.random.choice(len(X_test), 5, replace=False)\n",
        "test_sample_predictions = np.argmax(test_predictions[test_sample_indices], axis=1)\n",
        "test_sample_actual = y_test[test_sample_indices]\n",
        "for i in range(5):\n",
        "    print(f\"Example {i+1}: Predicted: {test_sample_predictions[i]}, Actual: {test_sample_actual[i]}\")"
      ]
    }
  ]
}