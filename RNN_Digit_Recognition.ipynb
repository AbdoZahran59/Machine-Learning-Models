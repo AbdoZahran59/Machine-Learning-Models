{
  "nbformat": 4,
  "nbformat_minor": 0,
  "metadata": {
    "colab": {
      "provenance": [],
      "gpuType": "T4"
    },
    "kernelspec": {
      "name": "python3",
      "display_name": "Python 3"
    },
    "language_info": {
      "name": "python"
    },
    "accelerator": "GPU"
  },
  "cells": [
    {
      "cell_type": "code",
      "execution_count": null,
      "metadata": {
        "id": "FtdGk3itEHud"
      },
      "outputs": [],
      "source": [
        "#Imports Needed\n",
        "import numpy as np\n",
        "import matplotlib.pyplot as plt\n",
        "from keras.datasets import imdb\n",
        "from keras.models import Sequential\n",
        "from keras.layers import Dense, LSTM, Embedding, Conv1D, MaxPooling1D, Dropout, BatchNormalization\n",
        "from keras.preprocessing import sequence\n",
        "from keras import regularizers\n",
        "from keras.optimizers import Adam"
      ]
    },
    {
      "cell_type": "code",
      "source": [
        "# Load the dataset including all words\n",
        "(X_train, y_train), (X_test, y_test) = imdb.load_data()\n",
        "\n",
        "# Truncate and pad input sequences\n",
        "max_review_length = 1000\n",
        "X_train = sequence.pad_sequences(X_train, maxlen=max_review_length)\n",
        "X_test = sequence.pad_sequences(X_test, maxlen=max_review_length)"
      ],
      "metadata": {
        "colab": {
          "base_uri": "https://localhost:8080/"
        },
        "id": "cN0tOuUKFQLH",
        "outputId": "209c2992-ef63-495c-e890-5ade17761ab9"
      },
      "execution_count": null,
      "outputs": [
        {
          "output_type": "stream",
          "name": "stdout",
          "text": [
            "Downloading data from https://storage.googleapis.com/tensorflow/tf-keras-datasets/imdb.npz\n",
            "17464789/17464789 [==============================] - 0s 0us/step\n"
          ]
        }
      ]
    },
    {
      "cell_type": "code",
      "source": [
        "# Create the RNN model\n",
        "embedding_vecor_length = 32\n",
        "model_rnn = Sequential()\n",
        "model_rnn.add(Embedding(input_dim=np.max(np.concatenate((X_train, X_test))) + 1,output_dim=embedding_vecor_length, input_length=max_review_length))\n",
        "model_rnn.add(Conv1D(filters=32, kernel_size=3, padding='same', activation='relu'))\n",
        "model_rnn.add(MaxPooling1D(pool_size=2))\n",
        "model_rnn.add(BatchNormalization())\n",
        "model_rnn.add(Dropout(0.3))\n",
        "model_rnn.add(LSTM(50, dropout=0.3))\n",
        "model_rnn.add(BatchNormalization())\n",
        "model_rnn.add(Dense(1, activation='sigmoid', kernel_regularizer=regularizers.l2(0.01)))\n",
        "optimizer = Adam(learning_rate=0.0001)\n",
        "model_rnn.compile(loss='binary_crossentropy', optimizer=optimizer, metrics=['accuracy'])"
      ],
      "metadata": {
        "id": "6jUia4GQFq1P"
      },
      "execution_count": null,
      "outputs": []
    },
    {
      "cell_type": "code",
      "source": [
        "print(model_rnn.summary())"
      ],
      "metadata": {
        "colab": {
          "base_uri": "https://localhost:8080/"
        },
        "id": "zcnRP4XnPUOF",
        "outputId": "7e8741e9-31bf-4120-8cf8-633f47b8bcc8"
      },
      "execution_count": null,
      "outputs": [
        {
          "output_type": "stream",
          "name": "stdout",
          "text": [
            "Model: \"sequential_2\"\n",
            "_________________________________________________________________\n",
            " Layer (type)                Output Shape              Param #   \n",
            "=================================================================\n",
            " embedding_2 (Embedding)     (None, 1000, 32)          2834784   \n",
            "                                                                 \n",
            " conv1d (Conv1D)             (None, 1000, 32)          3104      \n",
            "                                                                 \n",
            " max_pooling1d (MaxPooling1  (None, 500, 32)           0         \n",
            " D)                                                              \n",
            "                                                                 \n",
            " batch_normalization (Batch  (None, 500, 32)           128       \n",
            " Normalization)                                                  \n",
            "                                                                 \n",
            " dropout_4 (Dropout)         (None, 500, 32)           0         \n",
            "                                                                 \n",
            " lstm_4 (LSTM)               (None, 50)                16600     \n",
            "                                                                 \n",
            " batch_normalization_1 (Bat  (None, 50)                200       \n",
            " chNormalization)                                                \n",
            "                                                                 \n",
            " dense_2 (Dense)             (None, 1)                 51        \n",
            "                                                                 \n",
            "=================================================================\n",
            "Total params: 2854867 (10.89 MB)\n",
            "Trainable params: 2854703 (10.89 MB)\n",
            "Non-trainable params: 164 (656.00 Byte)\n",
            "_________________________________________________________________\n",
            "None\n"
          ]
        }
      ]
    },
    {
      "cell_type": "code",
      "source": [
        "# Train the model\n",
        "history = model_rnn.fit(X_train, y_train, epochs=10, batch_size=64, validation_data=(X_test, y_test))"
      ],
      "metadata": {
        "colab": {
          "base_uri": "https://localhost:8080/"
        },
        "id": "p27ZlaQeFuGE",
        "outputId": "5f130ff0-a9bd-4050-d38c-65657624297c"
      },
      "execution_count": null,
      "outputs": [
        {
          "output_type": "stream",
          "name": "stdout",
          "text": [
            "Epoch 1/10\n",
            "391/391 [==============================] - 54s 126ms/step - loss: 0.7479 - accuracy: 0.5372 - val_loss: 0.6988 - val_accuracy: 0.6008\n",
            "Epoch 2/10\n",
            "391/391 [==============================] - 36s 93ms/step - loss: 0.6358 - accuracy: 0.6513 - val_loss: 0.5173 - val_accuracy: 0.7577\n",
            "Epoch 3/10\n",
            "391/391 [==============================] - 29s 73ms/step - loss: 0.4179 - accuracy: 0.8212 - val_loss: 0.4854 - val_accuracy: 0.8224\n",
            "Epoch 4/10\n",
            "391/391 [==============================] - 26s 66ms/step - loss: 0.2910 - accuracy: 0.8886 - val_loss: 0.4958 - val_accuracy: 0.8378\n",
            "Epoch 5/10\n",
            "391/391 [==============================] - 22s 56ms/step - loss: 0.2146 - accuracy: 0.9240 - val_loss: 0.5153 - val_accuracy: 0.8446\n",
            "Epoch 6/10\n",
            "391/391 [==============================] - 20s 51ms/step - loss: 0.1679 - accuracy: 0.9439 - val_loss: 0.4994 - val_accuracy: 0.8581\n",
            "Epoch 7/10\n",
            "391/391 [==============================] - 22s 55ms/step - loss: 0.1306 - accuracy: 0.9596 - val_loss: 0.6035 - val_accuracy: 0.8466\n",
            "Epoch 8/10\n",
            "391/391 [==============================] - 16s 42ms/step - loss: 0.1077 - accuracy: 0.9670 - val_loss: 0.6163 - val_accuracy: 0.8517\n",
            "Epoch 9/10\n",
            "391/391 [==============================] - 19s 49ms/step - loss: 0.0897 - accuracy: 0.9746 - val_loss: 0.6828 - val_accuracy: 0.8425\n",
            "Epoch 10/10\n",
            "391/391 [==============================] - 17s 44ms/step - loss: 0.0715 - accuracy: 0.9814 - val_loss: 0.7159 - val_accuracy: 0.8502\n"
          ]
        }
      ]
    },
    {
      "cell_type": "code",
      "source": [
        "# Plot training accuracy graph\n",
        "plt.plot(history.history['accuracy'])\n",
        "plt.plot(history.history['val_accuracy'])\n",
        "plt.title('Model Accuracy')\n",
        "plt.ylabel('Accuracy')\n",
        "plt.xlabel('Epoch')\n",
        "plt.legend(['Train', 'Test'], loc='upper left')\n",
        "plt.show()"
      ],
      "metadata": {
        "colab": {
          "base_uri": "https://localhost:8080/",
          "height": 472
        },
        "id": "agBPXq-QFwuG",
        "outputId": "f085062c-da56-40bc-b480-16dcada56718"
      },
      "execution_count": null,
      "outputs": [
        {
          "output_type": "display_data",
          "data": {
            "text/plain": [
              "<Figure size 640x480 with 1 Axes>"
            ],
            "image/png": "[encoded data removed]"
          },
          "metadata": {}
        }
      ]
    },
    {
      "cell_type": "code",
      "source": [
        "# Predictions\n",
        "y_pred = model_rnn.predict(X_test)"
      ],
      "metadata": {
        "colab": {
          "base_uri": "https://localhost:8080/"
        },
        "id": "3fUcLw7zF0JD",
        "outputId": "dc38b773-61e9-407b-d567-ecd11587a090"
      },
      "execution_count": null,
      "outputs": [
        {
          "output_type": "stream",
          "name": "stdout",
          "text": [
            "782/782 [==============================] - 6s 7ms/step\n"
          ]
        }
      ]
    },
    {
      "cell_type": "code",
      "source": [
        "# Samples of predicted vs. actual labels\n",
        "num_samples = 5\n",
        "sample_indices = np.random.choice(len(X_test), num_samples, replace=False)\n",
        "\n",
        "print(\"Samples of Predicted vs Actual Labels\")\n",
        "for i in sample_indices:\n",
        "    review = [index for index in X_test[i] if index != 0]\n",
        "    if len(review) > 0:\n",
        "        review_text = \" \".join([str(index) for index in review])\n",
        "        actual_label = \"Positive\" if y_test[i] == 1 else \"Negative\"\n",
        "        predicted_label = \"Positive\" if y_pred[i] > 0.5 else \"Negative\"\n",
        "        print(\"Review:\", review_text)\n",
        "        print(\"Actual Label:\", actual_label)\n",
        "        print(\"Predicted Label:\", predicted_label)\n",
        "        print(\"---------------------------\")"
      ],
      "metadata": {
        "colab": {
          "base_uri": "https://localhost:8080/"
        },
        "id": "iajKzOcvF2pP",
        "outputId": "11b01aa3-63b9-469f-9950-ed700b38d070"
      },
      "execution_count": null,
      "outputs": [
        {
          "output_type": "stream",
          "name": "stdout",
          "text": [
            "Samples of Predicted vs Actual Labels\n",
            "Review: 1 351 132 1286 9 6 22 24 44 4 341 8812 21 44 4 84 574 11 6 341 8812 420 4 455 4 2166 625 362 71 556 4 7402 37 461 27 3580 29631 5 51 571 12 716 4 65 19 117 20831 21 6 176 7 5054 5 8358 13 28 12 23 288 5 175 58 13 106 12 24 400 45 115 35 776 22 8 106 146 53 1555 34 51 1756 5663 5 4 436 177 122 133 38 3656 15 12 100 30 6 664 38 1444 25 191 193 129 523 245 38 1302 5 246 38 976 351 132 1286 9 164 346 7 6 991 12 152 551 726 335 18 42 429 4 341 8812 42 60 28 57 652 14 20 80 28 25 536 44 4 1341 18 252 12 304 6 8224 2979 5 167 8 168 14 819 11 4 393 209 43970 60 280 5 316 574 11 4 22 2649 12 125 50 218 6 686 136 15 2666 2556 6 4796 22 21 92 535 641 829 8 49 4 477 139 100 30 53 2177 74 233 5381 60 151 57 541 42 567 9 617 25 79 1309 83 14 22 5 413 6 16188 5 225 6 109 18 43 44 316 8 3468 19 158 158\n",
            "Actual Label: Positive\n",
            "Predicted Label: Positive\n",
            "---------------------------\n",
            "Review: 1 39 10 10 4 807 9 394 373 3572 116 338 111 114 1508 13 92 386 14 33 32 10 10 39 12712 10 10 1614 31705 4 780 14505 7 4 603 9 9808 8 107 300 199 7 937 71 915 24 668 17 2399 11 4 22 10 10 4 1082 6839 8 885 6052 4 603 11 192 36 71 51595 34 23624 18 101 31021 15 3860 39 4 204 603 10 10 4 20 9 270 11 39171 315 4 7269 7 32330 15277 16659 469 4 20 23624 9 617 8 30 254 7 2231 21 179 2250 7 1897 84 37 1128 10125 11 635 23624 69 416 76 7 27 2231 1542 153 908 23624 115 2574 7965 22544 27 3225 200 964 3542 5 394 51757 4 15277 16659 16 3946 33 6 58 54 32330 2231 69 14560 5498 33 14 213 11 27 113 91 7 32330 3958 71 67682 34 4 361 7 27459 12 70 30 11725 190 15 29 16 82 502 8 332 2851 4047 14318 34 27 13536 15 84 393 90 54 36 4597 8 90 10 10 11 4 22 23624 166 35 18062 8 4 15831 87147 14 9 35 18206 17 4 87147 57 2437 7301 13799 28717 16 24 773 15831 366 450 153 103 27 341\n",
            "Actual Label: Negative\n",
            "Predicted Label: Negative\n",
            "---------------------------\n",
            "Review: 1 4 107 162 70666 29109 102 47 6 243 7 486 63 9 199 1089 5 12302 180 33 4 172 58 63 13 169 576 1139 12 66 1791 72 7 4 356 4998 17444 102 19 35 220 17 52 971 132 17 826 4769 11 1560 5 1025 1230 1593 340 7224 20698 9 179 530 10 10 4 795 2795 4 16625 112 1210 19517 26 540 6 420 7 6 601 583 7 486 5 20367 1897 10 10 726 25 80 358 42 784 14 20 66 266 180 8 51 243 7 486 25 28 13 191 858 18 4 755\n",
            "Actual Label: Positive\n",
            "Predicted Label: Positive\n",
            "---------------------------\n",
            "Review: 1 4 415 231 19748 11 14 20 16 38 821 15 415 215 28 77 4415 38 73 48 13 71 2644 19748 39 4 1130 2561 11 14 478 731 212 13 62 4659 8 30 3009 34 4 232 37 4415 4 415 37 256 4 232 3488 19748\n",
            "Actual Label: Negative\n",
            "Predicted Label: Positive\n",
            "---------------------------\n",
            "Review: 1 4 130 7 12170 9 35 674 664 44 682 21905 23 706 1708 5 4 582 5113 11 182 3239 365 4 22 9 35 321 2871 8 4 5113 3239 5682 5 1687 3019 19 8104 40 13242 8 4583 2217 1837 3045 1708 2790 1147 30716 5193 2133 745 10041 5 1729 18 6 1208 11634 182 5 2133 488 830 541 5 3239 4 8945 5 3615 7 5044 1790 25243 23 24243 47971 10 10 7057 6231 9 51638 725 53 9014 9014 9 51638 23 22358 11634 1708 810 5 30716 5193 93 6 55 788 2590 29 301 705 6231 9 24 614 5 18 6 232 39 27 978 8 135 15 16 31 7 4 91 198 40 4 3098 1416 660 4 703 9 2161 159 65818 488 1148 86966 10 10 4 5113 47 575 5 150 305 7 112 31606 1106 150 9389 3776\n",
            "Actual Label: Positive\n",
            "Predicted Label: Positive\n",
            "---------------------------\n"
          ]
        }
      ]
    }
  ]
}