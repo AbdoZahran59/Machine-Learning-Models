{
  "nbformat": 4,
  "nbformat_minor": 0,
  "metadata": {
    "colab": {
      "provenance": []
    },
    "kernelspec": {
      "name": "python3",
      "display_name": "Python 3"
    },
    "language_info": {
      "name": "python"
    }
  },
  "cells": [
    {
      "cell_type": "code",
      "execution_count": 5,
      "metadata": {
        "id": "sZPm1BN_Myq6"
      },
      "outputs": [],
      "source": [
        "def g(x):\n",
        "  return 2*(x-1)\n",
        "\n",
        "def fun(x):\n",
        "  for i in range (50000):\n",
        "    x=x-0.0001*g(x)\n",
        "  return x"
      ]
    },
    {
      "cell_type": "code",
      "source": [
        "fun(3)"
      ],
      "metadata": {
        "colab": {
          "base_uri": "https://localhost:8080/"
        },
        "id": "F2jhWspUPNu3",
        "outputId": "feeed686-03d3-4100-91f7-b45f5b461b21"
      },
      "execution_count": 6,
      "outputs": [
        {
          "output_type": "execute_result",
          "data": {
            "text/plain": [
              "1.0000907090929534"
            ]
          },
          "metadata": {},
          "execution_count": 6
        }
      ]
    }
  ]
}